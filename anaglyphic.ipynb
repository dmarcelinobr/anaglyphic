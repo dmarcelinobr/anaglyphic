{
 "cells": [
  {
   "cell_type": "code",
   "execution_count": 1,
   "metadata": {},
   "outputs": [],
   "source": [
    "import numpy as np\n",
    "import matplotlib.image as mpimg"
   ]
  },
  {
   "cell_type": "code",
   "execution_count": 2,
   "metadata": {},
   "outputs": [],
   "source": [
    "# take two images with same camera with distance of your eyes\n",
    "# and combine to create 3D stereoscopic image\n",
    "# it works :)\n",
    "def combineTo3D(im1,im2):\n",
    "  width = im1.shape[0]\n",
    "  height = im1.shape[1]\n",
    "  new = np.array(im1)\n",
    "\n",
    "  for i in range(width):\n",
    "    for j in range(height):\n",
    "      pixel1 = im1[i][j]\n",
    "      pixel2 = im2[i][j]\n",
    "\n",
    "      red1 =   pixel1[0]\n",
    "      green1 = pixel1[1]\n",
    "      blue1 =  pixel1[2]\n",
    "\n",
    "      red2 =   pixel2[0]\n",
    "      green2 = pixel2[1]\n",
    "      blue2 =  pixel2[2]\n",
    "\n",
    "      gray1 = (red1 * 0.299) + (green1 * 0.587) + (blue1 * 0.114)\n",
    "      gray2 = (red2 * 0.299) + (green2 * 0.587) + (blue2 * 0.114)\n",
    "\n",
    "      new[i][j][0] = int(gray2)\n",
    "      new[i][j][1] = int(gray1)\n",
    "      new[i][j][2] = int(gray1)\n",
    "\n",
    "  return new"
   ]
  },
  {
   "cell_type": "code",
   "execution_count": 6,
   "metadata": {},
   "outputs": [],
   "source": [
    "img1=mpimg.imread('IMG-0001.jpg')\n",
    "img2=mpimg.imread('IMG-0001.jpg')"
   ]
  },
  {
   "cell_type": "code",
   "execution_count": 7,
   "metadata": {},
   "outputs": [
    {
     "data": {
      "text/plain": [
       "array([[[25, 25, 25],\n",
       "        [25, 25, 25],\n",
       "        [25, 25, 25],\n",
       "        ...,\n",
       "        [30, 30, 30],\n",
       "        [25, 25, 25],\n",
       "        [28, 28, 28]],\n",
       "\n",
       "       [[26, 26, 26],\n",
       "        [28, 28, 28],\n",
       "        [26, 26, 26],\n",
       "        ...,\n",
       "        [29, 29, 29],\n",
       "        [26, 26, 26],\n",
       "        [28, 28, 28]],\n",
       "\n",
       "       [[27, 27, 27],\n",
       "        [25, 25, 25],\n",
       "        [24, 24, 24],\n",
       "        ...,\n",
       "        [28, 28, 28],\n",
       "        [29, 29, 29],\n",
       "        [32, 32, 32]],\n",
       "\n",
       "       ...,\n",
       "\n",
       "       [[17, 17, 17],\n",
       "        [15, 15, 15],\n",
       "        [13, 13, 13],\n",
       "        ...,\n",
       "        [17, 17, 17],\n",
       "        [21, 21, 21],\n",
       "        [18, 18, 18]],\n",
       "\n",
       "       [[17, 17, 17],\n",
       "        [14, 14, 14],\n",
       "        [12, 12, 12],\n",
       "        ...,\n",
       "        [17, 17, 17],\n",
       "        [21, 21, 21],\n",
       "        [18, 18, 18]],\n",
       "\n",
       "       [[13, 13, 13],\n",
       "        [15, 15, 15],\n",
       "        [17, 17, 17],\n",
       "        ...,\n",
       "        [20, 20, 20],\n",
       "        [23, 23, 23],\n",
       "        [19, 19, 19]]], dtype=uint8)"
      ]
     },
     "execution_count": 7,
     "metadata": {},
     "output_type": "execute_result"
    }
   ],
   "source": [
    "imF = combineTo3D(img1,img2)\n",
    "\n",
    "imF"
   ]
  },
  {
   "cell_type": "code",
   "execution_count": 8,
   "metadata": {},
   "outputs": [],
   "source": [
    "mpimg.imsave(\"final.jpg\", imF)"
   ]
  }
 ],
 "metadata": {
  "interpreter": {
   "hash": "928b3f007dbadafe1ccaf5d4719e1238046642f9ae75fd47d4986f44c29ce661"
  },
  "kernelspec": {
   "display_name": "polls",
   "language": "python",
   "name": "python3"
  },
  "language_info": {
   "codemirror_mode": {
    "name": "ipython",
    "version": 3
   },
   "file_extension": ".py",
   "mimetype": "text/x-python",
   "name": "python",
   "nbconvert_exporter": "python",
   "pygments_lexer": "ipython3",
   "version": "3.8.12"
  },
  "metadata": {
   "interpreter": {
    "hash": "7e85ec9bf098c5427e45e2f632dcd4eeff803b007e1abd287d600879388709c1"
   }
  }
 },
 "nbformat": 4,
 "nbformat_minor": 4
}
